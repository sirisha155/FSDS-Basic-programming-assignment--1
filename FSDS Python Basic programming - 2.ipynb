{
 "cells": [
  {
   "cell_type": "markdown",
   "metadata": {},
   "source": [
    "1.Write a Python program to convert kilometers to miles?"
   ]
  },
  {
   "cell_type": "code",
   "execution_count": 1,
   "metadata": {},
   "outputs": [
    {
     "name": "stdout",
     "output_type": "stream",
     "text": [
      "Enter kilometers : 80\n",
      "80.000 kilometers is equal to 49.680 miles \n"
     ]
    }
   ],
   "source": [
    "kilometers = float(input('Enter kilometers : '))\n",
    "converter = 0.621\n",
    "miles = kilometers * converter\n",
    "print(\"%0.3f kilometers is equal to %0.3f miles \"%(kilometers,miles))"
   ]
  },
  {
   "cell_type": "markdown",
   "metadata": {},
   "source": [
    "2.Write a Python program to convert Celsius to Fahrenheit?"
   ]
  },
  {
   "cell_type": "code",
   "execution_count": 4,
   "metadata": {},
   "outputs": [
    {
     "name": "stdout",
     "output_type": "stream",
     "text": [
      "Enter Celsius : 20\n",
      "20.000 Celsius is 68.000 Fahrenheit\n"
     ]
    }
   ],
   "source": [
    "Celsius = float(input(\"Enter Celsius : \"))\n",
    "Fahrenheit = 9/5 * Celsius + 32\n",
    "print(\"%0.3f Celsius is %0.3f Fahrenheit\"%(Celsius,Fahrenheit))\n"
   ]
  },
  {
   "cell_type": "markdown",
   "metadata": {},
   "source": [
    "3.Write a Python program to display calendar?"
   ]
  },
  {
   "cell_type": "code",
   "execution_count": 6,
   "metadata": {},
   "outputs": [
    {
     "name": "stdout",
     "output_type": "stream",
     "text": [
      "Enter year : 2000\n",
      "Enter month : 5\n",
      "      May 2000\n",
      "Mo Tu We Th Fr Sa Su\n",
      " 1  2  3  4  5  6  7\n",
      " 8  9 10 11 12 13 14\n",
      "15 16 17 18 19 20 21\n",
      "22 23 24 25 26 27 28\n",
      "29 30 31\n",
      "\n"
     ]
    }
   ],
   "source": [
    "import calendar\n",
    "year = int(input(\"Enter year : \"))\n",
    "month = int(input(\"Enter month : \"))\n",
    "print(calendar.month(year,month))"
   ]
  },
  {
   "cell_type": "markdown",
   "metadata": {},
   "source": [
    "4.Write a Python program to solve quadratic equation?"
   ]
  },
  {
   "cell_type": "code",
   "execution_count": 14,
   "metadata": {},
   "outputs": [
    {
     "name": "stdout",
     "output_type": "stream",
     "text": [
      "Enter the coefficient a: 78\n",
      "Enter the coefficient b: 90\n",
      "Enter the coefficient c: 6\n",
      "The equation has two solutions: -0.0710405216166959 or -1.0828056322294581\n"
     ]
    }
   ],
   "source": [
    "import math\n",
    "\n",
    "a = int(input(\"Enter the coefficient a: \"))\n",
    "b = int(input(\"Enter the coefficient b: \"))\n",
    "c = int(input(\"Enter the coefficient c: \"))\n",
    "\n",
    "d = b ** 2 - 4 * a * c  \n",
    "\n",
    "if d < 0:\n",
    "    print(\"The equation has no real solutions\")\n",
    "elif d == 0:\n",
    "    x = (-b + math.sqrt(b ** 2 - 4 * a * c)) / (2 * a)\n",
    "    print(f\"The equation has one solution: {x} \")\n",
    "else:\n",
    "    x1 = (-b + math.sqrt(b ** 2 - 4 * a * c)) / (2 * a)\n",
    "    x2 = (-b - math.sqrt(b ** 2 - 4 * a * c)) / (2 * a)\n",
    "    print(f\"The equation has two solutions: {x1} or {x2}\")"
   ]
  },
  {
   "cell_type": "markdown",
   "metadata": {},
   "source": [
    "5.Write a Python program to swap two variables without temp variable?\n"
   ]
  },
  {
   "cell_type": "code",
   "execution_count": 15,
   "metadata": {},
   "outputs": [
    {
     "name": "stdout",
     "output_type": "stream",
     "text": [
      "a = 20\n",
      "b = 10\n"
     ]
    }
   ],
   "source": [
    "a=10\n",
    "b=20\n",
    "a,b=b,a\n",
    "print(\"a =\",a)\n",
    "print(\"b =\",b)"
   ]
  }
 ],
 "metadata": {
  "kernelspec": {
   "display_name": "Python 3",
   "language": "python",
   "name": "python3"
  },
  "language_info": {
   "codemirror_mode": {
    "name": "ipython",
    "version": 3
   },
   "file_extension": ".py",
   "mimetype": "text/x-python",
   "name": "python",
   "nbconvert_exporter": "python",
   "pygments_lexer": "ipython3",
   "version": "3.8.5"
  }
 },
 "nbformat": 4,
 "nbformat_minor": 4
}
